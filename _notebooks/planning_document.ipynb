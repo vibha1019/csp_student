{
 "cells": [
  {
   "cell_type": "code",
   "execution_count": null,
   "metadata": {},
   "outputs": [],
   "source": [
    "---\n",
    "layout: default\n",
    "title: Planning Document\n",
    "---\n",
    "# Planning Document\n",
    "\n",
    "## Attempted Tasks\n",
    "- Task 1: Description\n",
    "- Task 2: Description\n",
    "\n",
    "## Accomplishments\n",
    "- Accomplishment 1: Description\n",
    "- Accomplishment 2: Description\n",
    "\n"
   ]
  }
 ],
 "metadata": {
  "language_info": {
   "name": "python"
  }
 },
 "nbformat": 4,
 "nbformat_minor": 2
}
