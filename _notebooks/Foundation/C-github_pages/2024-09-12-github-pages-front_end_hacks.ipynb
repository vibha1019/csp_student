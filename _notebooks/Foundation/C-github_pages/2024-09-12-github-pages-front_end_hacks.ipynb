{
 "cells": [
  {
   "cell_type": "raw",
   "metadata": {
    "vscode": {
     "languageId": "raw"
    }
   },
   "source": [
    "---\n",
    "layout: post\n",
    "title: GitHub Planning \n",
    "description: Planning For Project\n",
    "categories: [Javascript]\n",
    "permalink: /github/pages/frontendhacks\n",
    "type: ccc\n",
    "author: Vibha Mandayam\n",
    "menu: nav/github_pages.html\n",
    "---"
   ]
  },
  {
   "cell_type": "markdown",
   "metadata": {},
   "source": [
    "Hacks Below\n",
    "- Data Type Hacks \n",
    "- DOM Hacks"
   ]
  },
  {
   "cell_type": "code",
   "execution_count": null,
   "metadata": {
    "vscode": {
     "languageId": "javascript"
    }
   },
   "outputs": [],
   "source": [
    "// Object representing Vibha\n",
    "let vibha = {\n",
    "    name: \"Vibha\",\n",
    "    age: 15,\n",
    "    currentClasses: [\"AP Chem\", \"AP Calc\", \"AP Seminar\", \"AP CSP\",],\n",
    "    interests: [\"reading\", \"baking\"],\n",
    "    favoriteColor: \"Purple\",\n",
    "    favoriteArtists: [\"Dua Lipa\", \"Sabrina Carpenter\"]\n",
    "};\n",
    "\n",
    "// Print the entire object\n",
    "console.log(\"Original object:\", vibha);\n",
    "\n",
    "// Manipulate arrays within the object\n",
    "console.log(\"Object: mutating the key favoriteColor from purple to blue\")\n",
    "vibha.favoriteColor = \"blue\"\n",
    "\n",
    "// Print the modified object and specific changed key\n",
    "console.log(\"Modified favoriteColor:\", vibha.favoriteColor);\n",
    "\n",
    "// Perform mathematical operations\n",
    "let yearsTill18 = 18 - vibha.age;\n",
    "console.log(\"Years until Vibha turns 18:\", yearsTill18);\n",
    "\n",
    "let classCount = vibha.currentClasses.length;\n",
    "console.log(\"Number of classes Vibha is taking:\", classCount);\n",
    "\n",
    "// Use typeof to determine the types of fields\n",
    "console.log(\"Type of name:\", typeof vibha.name);\n",
    "console.log(\"Type of age:\", typeof vibha.age);\n",
    "console.log(\"Type of currentClasses:\", typeof vibha.currentClasses);\n"
   ]
  }
 ],
 "metadata": {
  "kernelspec": {
   "display_name": "Python 3",
   "language": "python",
   "name": "python3"
  },
  "language_info": {
   "codemirror_mode": {
    "name": "ipython",
    "version": 3
   },
   "file_extension": ".py",
   "mimetype": "text/x-python",
   "name": "python",
   "nbconvert_exporter": "python",
   "pygments_lexer": "ipython3",
   "version": "3.11.9"
  },
  "orig_nbformat": 4
 },
 "nbformat": 4,
 "nbformat_minor": 2
}
