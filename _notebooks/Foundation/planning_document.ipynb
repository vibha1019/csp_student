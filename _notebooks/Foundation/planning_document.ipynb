{
 "cells": [
  {
   "cell_type": "markdown",
   "metadata": {},
   "source": [
    "---\n",
    "layout: default\n",
    "title: Planning Document\n",
    "---"
   ]
  },
  {
   "cell_type": "markdown",
   "metadata": {},
   "source": [
    "# Planning Document\n",
    "\n",
    "## Attempted Tasks\n",
    "- Changing the color and styles of the theme in order to make it more custom\n",
    "- Adding buttons that link to the \n",
    "\n",
    "## Accomplishments\n",
    "- Accomplishment 1: Description\n",
    "- Accomplishment 2: Description"
   ]
  }
 ],
 "metadata": {
  "language_info": {
   "name": "python"
  }
 },
 "nbformat": 4,
 "nbformat_minor": 2
}
